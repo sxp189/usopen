{
 "cells": [
  {
   "cell_type": "markdown",
   "id": "2398ac55",
   "metadata": {},
   "source": [
    "# Predicting Winner of Men's Singles Title at 2025 US Open\n",
    "\n",
    "In this project, I will first review tennis player data from ATP to determine what factors contribute towards winning a Grand Slam title for Men's Singles. I'm using the following data source from Kaggle:  \n",
    "https://www.kaggle.com/datasets/dissfya/atp-tennis-2000-2023daily-pull/data"
   ]
  },
  {
   "cell_type": "markdown",
   "id": "5df65a0f",
   "metadata": {},
   "source": [
    "## Outline\n",
    "I will use the following steps to proceed with analysis.\n",
    "1. **Data Loading**: Load the ATP dataset.\n",
    "2. **Data Cleaning**: Handle missing values and ensure data consistency.\n",
    "3. **Feature Engineering**: Create new features that may help in predicting the winners.\n",
    "4. **Exploratory Data Analysis (EDA)**: Analyze the data to find patterns and relationships.\n",
    "5. **Visualization**: Use plots to visualize the data and findings.\n",
    "6. **Conclusion**: Summarize the findings and insights from the EDA."
   ]
  },
  {
   "cell_type": "markdown",
   "id": "d8cde4e6",
   "metadata": {},
   "source": [
    "## Import Necessary Libraries and Packages\n",
    "First, we will import any necessary dependencies."
   ]
  },
  {
   "cell_type": "code",
   "execution_count": 1,
   "id": "dffde2ef",
   "metadata": {},
   "outputs": [
    {
     "name": "stdout",
     "output_type": "stream",
     "text": [
      "Requirement already satisfied: kagglehub[pandas-datasets] in c:\\users\\sarah\\appdata\\local\\packages\\pythonsoftwarefoundation.python.3.11_qbz5n2kfra8p0\\localcache\\local-packages\\python311\\site-packages (0.3.11)\n",
      "Requirement already satisfied: packaging in c:\\users\\sarah\\appdata\\local\\packages\\pythonsoftwarefoundation.python.3.11_qbz5n2kfra8p0\\localcache\\local-packages\\python311\\site-packages (from kagglehub[pandas-datasets]) (23.0)\n",
      "Requirement already satisfied: pyyaml in c:\\users\\sarah\\appdata\\local\\packages\\pythonsoftwarefoundation.python.3.11_qbz5n2kfra8p0\\localcache\\local-packages\\python311\\site-packages (from kagglehub[pandas-datasets]) (6.0)\n",
      "Requirement already satisfied: requests in c:\\users\\sarah\\appdata\\local\\packages\\pythonsoftwarefoundation.python.3.11_qbz5n2kfra8p0\\localcache\\local-packages\\python311\\site-packages (from kagglehub[pandas-datasets]) (2.26.0)\n",
      "Requirement already satisfied: tqdm in c:\\users\\sarah\\appdata\\local\\packages\\pythonsoftwarefoundation.python.3.11_qbz5n2kfra8p0\\localcache\\local-packages\\python311\\site-packages (from kagglehub[pandas-datasets]) (4.65.0)\n",
      "Requirement already satisfied: pandas in c:\\users\\sarah\\appdata\\local\\packages\\pythonsoftwarefoundation.python.3.11_qbz5n2kfra8p0\\localcache\\local-packages\\python311\\site-packages (from kagglehub[pandas-datasets]) (2.2.3)\n",
      "Requirement already satisfied: numpy>=1.23.2 in c:\\users\\sarah\\appdata\\local\\packages\\pythonsoftwarefoundation.python.3.11_qbz5n2kfra8p0\\localcache\\local-packages\\python311\\site-packages (from pandas->kagglehub[pandas-datasets]) (1.26.4)\n",
      "Requirement already satisfied: python-dateutil>=2.8.2 in c:\\users\\sarah\\appdata\\local\\packages\\pythonsoftwarefoundation.python.3.11_qbz5n2kfra8p0\\localcache\\local-packages\\python311\\site-packages (from pandas->kagglehub[pandas-datasets]) (2.8.2)\n",
      "Requirement already satisfied: pytz>=2020.1 in c:\\users\\sarah\\appdata\\local\\packages\\pythonsoftwarefoundation.python.3.11_qbz5n2kfra8p0\\localcache\\local-packages\\python311\\site-packages (from pandas->kagglehub[pandas-datasets]) (2023.3)\n",
      "Requirement already satisfied: tzdata>=2022.7 in c:\\users\\sarah\\appdata\\local\\packages\\pythonsoftwarefoundation.python.3.11_qbz5n2kfra8p0\\localcache\\local-packages\\python311\\site-packages (from pandas->kagglehub[pandas-datasets]) (2023.3)\n",
      "Requirement already satisfied: six>=1.5 in c:\\users\\sarah\\appdata\\local\\packages\\pythonsoftwarefoundation.python.3.11_qbz5n2kfra8p0\\localcache\\local-packages\\python311\\site-packages (from python-dateutil>=2.8.2->pandas->kagglehub[pandas-datasets]) (1.16.0)\n",
      "Requirement already satisfied: urllib3<1.27,>=1.21.1 in c:\\users\\sarah\\appdata\\local\\packages\\pythonsoftwarefoundation.python.3.11_qbz5n2kfra8p0\\localcache\\local-packages\\python311\\site-packages (from requests->kagglehub[pandas-datasets]) (1.26.15)\n",
      "Requirement already satisfied: certifi>=2017.4.17 in c:\\users\\sarah\\appdata\\local\\packages\\pythonsoftwarefoundation.python.3.11_qbz5n2kfra8p0\\localcache\\local-packages\\python311\\site-packages (from requests->kagglehub[pandas-datasets]) (2022.12.7)\n",
      "Requirement already satisfied: charset-normalizer~=2.0.0 in c:\\users\\sarah\\appdata\\local\\packages\\pythonsoftwarefoundation.python.3.11_qbz5n2kfra8p0\\localcache\\local-packages\\python311\\site-packages (from requests->kagglehub[pandas-datasets]) (2.0.12)\n",
      "Requirement already satisfied: idna<4,>=2.5 in c:\\users\\sarah\\appdata\\local\\packages\\pythonsoftwarefoundation.python.3.11_qbz5n2kfra8p0\\localcache\\local-packages\\python311\\site-packages (from requests->kagglehub[pandas-datasets]) (3.4)\n",
      "Requirement already satisfied: colorama in c:\\users\\sarah\\appdata\\local\\packages\\pythonsoftwarefoundation.python.3.11_qbz5n2kfra8p0\\localcache\\local-packages\\python311\\site-packages (from tqdm->kagglehub[pandas-datasets]) (0.4.6)\n",
      "Note: you may need to restart the kernel to use updated packages.\n"
     ]
    },
    {
     "name": "stderr",
     "output_type": "stream",
     "text": [
      "\n",
      "[notice] A new release of pip is available: 25.1.1 -> 25.2\n",
      "[notice] To update, run: C:\\Users\\sarah\\AppData\\Local\\Microsoft\\WindowsApps\\PythonSoftwareFoundation.Python.3.11_qbz5n2kfra8p0\\python.exe -m pip install --upgrade pip\n"
     ]
    }
   ],
   "source": [
    "# Install dependencies as needed:\n",
    "%pip install kagglehub[pandas-datasets]"
   ]
  },
  {
   "cell_type": "code",
   "execution_count": 2,
   "id": "94599f9f",
   "metadata": {},
   "outputs": [],
   "source": [
    "import kagglehub\n",
    "from kagglehub import KaggleDatasetAdapter"
   ]
  },
  {
   "cell_type": "markdown",
   "id": "0c87e408",
   "metadata": {},
   "source": [
    "# Data Loading\n",
    "First we will load the ATP datasets from Kaggle."
   ]
  },
  {
   "cell_type": "code",
   "execution_count": 12,
   "id": "5da0f4b7",
   "metadata": {},
   "outputs": [
    {
     "name": "stderr",
     "output_type": "stream",
     "text": [
      "C:\\Users\\sarah\\AppData\\Local\\Temp\\ipykernel_26696\\1916641042.py:5: DeprecationWarning: load_dataset is deprecated and will be removed in future version.\n",
      "  dfatp = kagglehub.load_dataset(\n"
     ]
    },
    {
     "name": "stdout",
     "output_type": "stream",
     "text": [
      "Warning: Looks like you're using an outdated `kagglehub` version (installed: 0.3.11), please consider upgrading to the latest version (0.3.12).\n",
      "Downloading from https://www.kaggle.com/api/v1/datasets/download/dissfya/atp-tennis-2000-2023daily-pull?dataset_version_number=819&file_name=atp_tennis.csv...\n"
     ]
    },
    {
     "name": "stderr",
     "output_type": "stream",
     "text": [
      "100%|██████████| 8.37M/8.37M [00:06<00:00, 1.31MB/s]\n"
     ]
    },
    {
     "name": "stdout",
     "output_type": "stream",
     "text": [
      "First 5 records:                            Tournament        Date         Series    Court  \\\n",
      "0  Australian Hardcourt Championships  2000-01-03  International  Outdoor   \n",
      "1  Australian Hardcourt Championships  2000-01-03  International  Outdoor   \n",
      "2  Australian Hardcourt Championships  2000-01-03  International  Outdoor   \n",
      "3  Australian Hardcourt Championships  2000-01-03  International  Outdoor   \n",
      "4  Australian Hardcourt Championships  2000-01-03  International  Outdoor   \n",
      "\n",
      "  Surface      Round  Best of        Player_1       Player_2       Winner  \\\n",
      "0    Hard  1st Round        3      Dosedel S.    Ljubicic I.   Dosedel S.   \n",
      "1    Hard  1st Round        3      Clement A.     Enqvist T.   Enqvist T.   \n",
      "2    Hard  1st Round        3       Escude N.  Baccanello P.    Escude N.   \n",
      "3    Hard  1st Round        3  Knippschild J.     Federer R.   Federer R.   \n",
      "4    Hard  1st Round        3     Fromberg R.  Woodbridge T.  Fromberg R.   \n",
      "\n",
      "   Rank_1  Rank_2  Pts_1  Pts_2  Odd_1  Odd_2        Score  \n",
      "0      63      77     -1     -1   -1.0   -1.0      6-4 6-2  \n",
      "1      56       5     -1     -1   -1.0   -1.0      3-6 3-6  \n",
      "2      40     655     -1     -1   -1.0   -1.0  6-7 7-5 6-3  \n",
      "3      87      65     -1     -1   -1.0   -1.0      1-6 4-6  \n",
      "4      81     198     -1     -1   -1.0   -1.0  7-6 5-7 6-4  \n",
      "Pathfile to imported dataset: atp_tennis.csv\n"
     ]
    }
   ],
   "source": [
    "# Set the path to the file you'd like to load\n",
    "file_path = \"atp_tennis.csv\"  # Update this to the correct file name if needed\n",
    "\n",
    "# Load the latest version\n",
    "dfatp = kagglehub.load_dataset(\n",
    "  KaggleDatasetAdapter.PANDAS,\n",
    "  \"dissfya/atp-tennis-2000-2023daily-pull\",\n",
    "  # \"dissfya/atp-tennis-daily-pull\",\n",
    "  file_path,\n",
    "  # Provide any additional arguments like \n",
    "  # sql_query or pandas_kwargs. See the \n",
    "  # documenation for more information:\n",
    "  # https://github.com/Kaggle/kagglehub/blob/main/README.md#kaggledatasetadapterpandas\n",
    ")\n",
    "\n",
    "print(\"First 5 records:\", dfatp.head())\n",
    "print(\"Pathfile to imported dataset:\", file_path)"
   ]
  },
  {
   "cell_type": "code",
   "execution_count": 17,
   "id": "ecf05a1c",
   "metadata": {},
   "outputs": [
    {
     "data": {
      "text/plain": [
       "Tournament     object\n",
       "Date           object\n",
       "Series         object\n",
       "Court          object\n",
       "Surface        object\n",
       "Round          object\n",
       "Best of         int64\n",
       "Player_1       object\n",
       "Player_2       object\n",
       "Winner         object\n",
       "Rank_1          int64\n",
       "Rank_2          int64\n",
       "Pts_1           int64\n",
       "Pts_2           int64\n",
       "Odd_1         float64\n",
       "Odd_2         float64\n",
       "Score          object\n",
       "dtype: object"
      ]
     },
     "execution_count": 17,
     "metadata": {},
     "output_type": "execute_result"
    }
   ],
   "source": [
    "# List all Variables in the dataset\n",
    "dfatp.dtypes"
   ]
  },
  {
   "cell_type": "code",
   "execution_count": 19,
   "id": "8e712cb1",
   "metadata": {},
   "outputs": [
    {
     "name": "stdout",
     "output_type": "stream",
     "text": [
      "Tournament Frequency Table:\n",
      "            Tournament        Date      Series    Court Surface  Frequency\n",
      "912    Australian Open  2001-01-15  Grand Slam  Outdoor    Hard        125\n",
      "10021          US Open  2001-08-27  Grand Slam  Outdoor    Hard        124\n",
      "10020          US Open  2000-08-28  Grand Slam  Outdoor    Hard        124\n",
      "911    Australian Open  2000-01-17  Grand Slam  Outdoor    Hard        124\n",
      "10620        Wimbledon  2002-06-24  Grand Slam  Outdoor   Grass        124\n",
      "10618        Wimbledon  2000-06-26  Grand Slam  Outdoor   Grass        123\n",
      "913    Australian Open  2002-01-14  Grand Slam  Outdoor    Hard        122\n",
      "3689       French Open  2002-05-27  Grand Slam  Outdoor    Clay        122\n",
      "3688       French Open  2001-05-28  Grand Slam  Outdoor    Clay        121\n",
      "10619        Wimbledon  2001-06-25  Grand Slam  Outdoor   Grass        121\n",
      "\n",
      "Total unique tournaments: 11009\n",
      "\n",
      "Distribution by surface:\n",
      "Surface\n",
      "Hard      35419\n",
      "Clay      21389\n",
      "Grass      7444\n",
      "Carpet     1632\n",
      "Name: count, dtype: int64\n",
      "\n",
      "Distribution by series:\n",
      "Series\n",
      "ATP250                17463\n",
      "Grand Slam            12390\n",
      "International         11752\n",
      "Masters 1000           8902\n",
      "ATP500                 6356\n",
      "Masters                5029\n",
      "International Gold     3620\n",
      "Masters Cup             372\n",
      "Name: count, dtype: int64\n",
      "\n",
      "Distribution by Tournament:\n",
      "Tournament\n",
      "French Open                    3172\n",
      "Australian Open                3155\n",
      "Wimbledon                      3061\n",
      "US Open                        3002\n",
      "BNP Paribas Open               1463\n",
      "                               ... \n",
      "LA Tennis Open                   25\n",
      "Forte Village Sardegna Open      25\n",
      "Hangzhou Open                    25\n",
      "Gijon Open                       24\n",
      "Korea Open                       24\n",
      "Name: count, Length: 266, dtype: int64\n"
     ]
    }
   ],
   "source": [
    "# Create a frequency table of tournaments with key characteristics\n",
    "tournament_freq = dfatp.groupby(['Tournament', 'Date', 'Series', 'Court', 'Surface'])\\\n",
    "                      .size()\\\n",
    "                      .reset_index(name='Frequency')\\\n",
    "                      .sort_values('Frequency', ascending=False)\n",
    "\n",
    "# Display the first 10 rows\n",
    "print(\"Tournament Frequency Table:\")\n",
    "print(tournament_freq.head(10))\n",
    "\n",
    "# Get summary statistics\n",
    "print(\"\\nTotal unique tournaments:\", len(tournament_freq))\n",
    "print(\"\\nDistribution by surface:\")\n",
    "print(dfatp['Surface'].value_counts())\n",
    "print(\"\\nDistribution by series:\")\n",
    "print(dfatp['Series'].value_counts())\n",
    "print(\"\\nDistribution by Tournament:\")\n",
    "print(dfatp['Tournament'].value_counts())"
   ]
  }
 ],
 "metadata": {
  "kernelspec": {
   "display_name": "Python 3",
   "language": "python",
   "name": "python3"
  },
  "language_info": {
   "codemirror_mode": {
    "name": "ipython",
    "version": 3
   },
   "file_extension": ".py",
   "mimetype": "text/x-python",
   "name": "python",
   "nbconvert_exporter": "python",
   "pygments_lexer": "ipython3",
   "version": "3.11.9"
  }
 },
 "nbformat": 4,
 "nbformat_minor": 5
}
